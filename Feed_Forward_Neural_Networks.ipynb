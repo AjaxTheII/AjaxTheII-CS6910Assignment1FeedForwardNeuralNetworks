{
  "nbformat": 4,
  "nbformat_minor": 0,
  "metadata": {
    "colab": {
      "name": "Feed_Forward_Neural_Networks.ipynb",
      "provenance": [],
      "collapsed_sections": []
    },
    "kernelspec": {
      "name": "python3",
      "display_name": "Python 3"
    },
    "language_info": {
      "name": "python"
    }
  },
  "cells": [
    {
      "cell_type": "code",
      "source": [
        "import numpy as np\n",
        "import matplotlib.pyplot as plt"
      ],
      "metadata": {
        "id": "fAgsLmKZMpyH"
      },
      "execution_count": null,
      "outputs": []
    },
    {
      "cell_type": "markdown",
      "source": [
        "###Activation Functions"
      ],
      "metadata": {
        "id": "Mt8dmitqMs_4"
      }
    },
    {
      "cell_type": "code",
      "execution_count": null,
      "metadata": {
        "id": "0lE5PJPWMcKJ"
      },
      "outputs": [],
      "source": [
        "def sigmoid(x):\n",
        "  return 1/(1 + np.exp(-x))\n",
        "\n",
        "def d_sigmoid(x):\n",
        "  return (1 - sigmoid(x)) * sigmoid(x)\n",
        "\n",
        "def tanh(x):\n",
        "  return np.tanh(x)\n",
        "\n",
        "def d_tanh(x):\n",
        "    return 1 - np.square(np.tanh(x))\n",
        "\n",
        "def relu(x):\n",
        "  return np.where(np.asarray(x) > 0, x, 0)\n",
        "\n",
        "def d_relu(x):\n",
        "    return np.where(x <= 0, 0, 1)\n",
        "\n",
        "def softmax(x):\n",
        "    e_x = np.exp(x)\n",
        "    return e_x/e_x.sum()"
      ]
    },
    {
      "cell_type": "markdown",
      "source": [
        "###Cost Function:"
      ],
      "metadata": {
        "id": "Yq4IZu4f2hCP"
      }
    },
    {
      "cell_type": "code",
      "source": [
        "def cross_entropy_loss(y, y_hat, i):\n",
        "  return -np.log(y_hat[y[i]][0])"
      ],
      "metadata": {
        "id": "2EE-A_Pw2kMi"
      },
      "execution_count": null,
      "outputs": []
    },
    {
      "cell_type": "code",
      "source": [
        "def cost(y, y_hat, i):\n",
        "  \n",
        "  m = y.shape[0]\n",
        "  c = (1/m) * np.sum(cross_entropy_loss(y, y_hat))\n",
        "  c = np.squeeze(c) \n",
        "\n",
        "  return c"
      ],
      "metadata": {
        "id": "qJzVsQoi2yek"
      },
      "execution_count": null,
      "outputs": []
    },
    {
      "cell_type": "markdown",
      "source": [
        "###Layer Class : parameters initialization for each layer"
      ],
      "metadata": {
        "id": "x23K52DJMwJu"
      }
    },
    {
      "cell_type": "code",
      "source": [
        "class Layer:\n",
        "\n",
        "    activationFunc = {\n",
        "        'tanh': (tanh, d_tanh),\n",
        "        'sigmoid': (sigmoid, d_sigmoid),\n",
        "        'relu' : (relu, d_relu),\n",
        "        'softmax' : (softmax, None)\n",
        "    }\n",
        "\n",
        "    def __init__(self, inputs, neurons, activation):\n",
        "        np.random.seed(44)\n",
        "        self.W = np.random.randn(neurons, inputs)\n",
        "        self.b = np.zeros((neurons, 1))\n",
        "        self.act, self.d_act = self.activationFunc.get(activation)\n",
        "        self.dW = 0\n",
        "        self.db = 0"
      ],
      "metadata": {
        "id": "MSYeILJNMvIV"
      },
      "execution_count": null,
      "outputs": []
    },
    {
      "cell_type": "markdown",
      "source": [
        "### Forward propagation"
      ],
      "metadata": {
        "id": "pnulycSKMLB6"
      }
    },
    {
      "cell_type": "code",
      "source": [
        "def forward_propagation(h, layers):\n",
        "  m = len(layers)\n",
        "  \n",
        "  layers[0].a = np.dot(layers[0].W, h)\n",
        "  layers[0].h = layers[0].act(layers[0].a)\n",
        "  #print(layers[0].h.shape)\n",
        "  \n",
        "  for j in range(1, m-1):\n",
        "    layers[j].a = np.dot(layers[j].W, layers[j-1].h)\n",
        "    layers[j].h = layers[j].act(layers[j].a)\n",
        "    #print(layers[j].h.shape)\n",
        "\n",
        "  j+=1\n",
        "  layers[j].a = np.dot(layers[j].W, layers[j-1].h)\n",
        "  layers[j].h = softmax(layers[j].a)\n",
        "  #print(layers[j].h.shape)\n",
        "\n",
        "  return layers[m-1].h"
      ],
      "metadata": {
        "id": "TK_UOVYHs3Vv"
      },
      "execution_count": null,
      "outputs": []
    },
    {
      "cell_type": "markdown",
      "source": [
        "###Backward_propagation"
      ],
      "metadata": {
        "id": "9J1L5aJ3MNvW"
      }
    },
    {
      "cell_type": "code",
      "source": [
        "def backward_propagation(l, y_hat, layers, inp):\n",
        "  \n",
        "  #one-hot vector\n",
        "  e_l = np.zeros((y_hat.shape[0], 1))\n",
        "  e_l[l] = 1\n",
        "  \n",
        "  layers[len(layers)-1].da = -(e_l - y_hat)                 #gradient w.r.t activation of last layer (a_L)\n",
        "  \n",
        "  for j in range(len(layers)-1, 0, -1):\n",
        "                        \n",
        "    layers[j].dW += np.dot(layers[j].da, (layers[j-1].h).T)\n",
        "    layers[j].db += layers[j].da\n",
        "\n",
        "    layers[j-1].dh = np.dot((layers[j].W).T, layers[j].da)\n",
        "    layers[j-1].da = np.multiply(layers[j-1].dh, layers[j-1].d_act(layers[j-1].a))\n",
        "\n",
        "  layers[0].dW += np.dot(layers[0].da, inp.T)\n",
        "  layers[0].db += layers[0].da\n",
        "\n",
        "  return layers\n"
      ],
      "metadata": {
        "id": "Ib1ZyluaRYnz"
      },
      "execution_count": null,
      "outputs": []
    },
    {
      "cell_type": "markdown",
      "source": [
        "###Gradient Descent"
      ],
      "metadata": {
        "id": "wSR_D3vzMR9q"
      }
    },
    {
      "cell_type": "code",
      "source": [
        "def update_params(learning_rate, layers, batch_size):\n",
        "  for layer in layers:\n",
        "    layer.W = layer.W - learning_rate * layer.dW/batch_size\n",
        "    layer.b = layer.b - learning_rate * layer.db/batch_size\n",
        "\n",
        "    layer.dW = 0\n",
        "    layer.db = 0"
      ],
      "metadata": {
        "id": "7ww8nMm7iVt8"
      },
      "execution_count": null,
      "outputs": []
    },
    {
      "cell_type": "markdown",
      "source": [
        "###SGD / Batch Gradient Descent"
      ],
      "metadata": {
        "id": "h0Lo597P3hI8"
      }
    },
    {
      "cell_type": "code",
      "source": [
        "def sgd(epochs, layers, learning_rate, x_train, y_train, batch_size):\n",
        "    \n",
        "    m = x_train.shape[0]\n",
        "    costs = []\n",
        "\n",
        "    for epoch in range(epochs):\n",
        "\n",
        "      cost = 0\n",
        "\n",
        "      for i in range(m):\n",
        "\n",
        "        inp = x_train[i].reshape(784, 1)\n",
        "        \n",
        "        # Feedforward\n",
        "        h = inp\n",
        "        h = forward_propagation(h, layers)\n",
        "\n",
        "        # Calulate cost to plot graph\n",
        "        cost += cross_entropy_loss(y_train, h, i)\n",
        "\n",
        "        # Backpropagation\n",
        "        backward_propagation(y_train[i], h, layers, x_train[i].reshape(784, 1))\n",
        "\n",
        "        #stocastic gradient decent\n",
        "        if (i+1) % batch_size == 0:\n",
        "          update_params(learning_rate, layers, batch_size)\n",
        "\n",
        "      costs.append(cost/m)\n",
        "\n",
        "      print(\"Cost after epoch \" + str(epoch) + \" :\", cost/m)\n",
        "\n",
        "    return costs, layers"
      ],
      "metadata": {
        "id": "Acn4nh9X3gIQ"
      },
      "execution_count": null,
      "outputs": []
    },
    {
      "cell_type": "markdown",
      "source": [
        "###Momentum Gradient descent"
      ],
      "metadata": {
        "id": "ZcWfy6JBDyJ-"
      }
    },
    {
      "cell_type": "code",
      "source": [
        "def mgd(epochs, layers, learning_rate, x_train, y_train, batch_size):\n",
        "\n",
        "    gamma = 0.9\n",
        "    m = x_train.shape[0]\n",
        "    costs = []\n",
        "\n",
        "    for epoch in range(epochs):\n",
        "\n",
        "      for layer in layers:\n",
        "        layer.update_W = 0\n",
        "        layer.update_b = 0\n",
        "\n",
        "      cost = 0\n",
        "\n",
        "      for i in range(m):\n",
        "\n",
        "        inp = x_train[i].reshape(784, 1)\n",
        "        \n",
        "        # Feedforward\n",
        "        h = inp\n",
        "        h = forward_propagation(h, layers)\n",
        "\n",
        "        # Calulate cost to plot graph\n",
        "        cost += cross_entropy_loss(y_train, h, i)\n",
        "\n",
        "        # Backpropagation\n",
        "        backward_propagation(y_train[i], h, layers, x_train[i].reshape(784, 1))\n",
        "\n",
        "      #momentum gradient decent\n",
        "      if (i+1) % batch_size == 0:\n",
        "        for layer in layers:\n",
        "\n",
        "          layer.update_W = gamma*layer.update_W + learning_rate*layer.dW/batch_size\n",
        "          layer.update_b = gamma*layer.update_b + learning_rate*layer.dW/batch_size\n",
        "\n",
        "          layer.W = layer.W - layer.update_W\n",
        "          layer.b = layer.b - layer.update_b\n",
        "\n",
        "          layer.dW = 0\n",
        "          layer.db = 0\n",
        "\n",
        "          layer.update_W = 0\n",
        "          layer.update_b = 0\n",
        "\n",
        "\n",
        "      costs.append(cost/m)\n",
        "\n",
        "      print(\"Cost after epoch \" + str(epoch) + \" :\", cost/m)\n",
        "\n",
        "    return costs, layers"
      ],
      "metadata": {
        "id": "vksSBdq-D1cC"
      },
      "execution_count": null,
      "outputs": []
    },
    {
      "cell_type": "markdown",
      "source": [
        "###Nesterov Gradient Descent"
      ],
      "metadata": {
        "id": "Lp6A3a8gnoSe"
      }
    },
    {
      "cell_type": "code",
      "source": [
        "def nesterov(epochs, layers, learning_rate, x_train, y_train, batch_size):\n",
        "\n",
        "    gamma = 0.9\n",
        "    m = x_train.shape[0]\n",
        "    costs = []\n",
        "\n",
        "    for epoch in range(epochs):\n",
        "\n",
        "      for layer in layers:\n",
        "        layer.update_W = 0\n",
        "        layer.update_b = 0\n",
        "\n",
        "      cost = 0\n",
        "\n",
        "      for i in range(m):\n",
        "\n",
        "        inp = x_train[i].reshape(784, 1)\n",
        "        \n",
        "        # Feedforward\n",
        "        h = inp\n",
        "        h = forward_propagation(h, layers)\n",
        "\n",
        "        # Calulate cost to plot graph\n",
        "        cost += cross_entropy_loss(y_train, h, i)\n",
        "\n",
        "        #calculate W_lookaheads\n",
        "        if (i+1) % batch_size == 0:\n",
        "          for layer in layers:\n",
        "            layer.W = layer.W - gamma * layer.update_W\n",
        "            layer.b = layer.b - gamma * layer.update_b\n",
        "\n",
        "        # Backpropagation\n",
        "        backward_propagation(y_train[i], h, layers, x_train[i].reshape(784, 1))\n",
        "\n",
        "        #nesterov gradient decent\n",
        "        if (i+1) % batch_size == 0:\n",
        "          for layer in layers:\n",
        "\n",
        "            layer.update_W = gamma*layer.update_W + learning_rate*layer.dW/batch_size\n",
        "            layer.update_b = gamma*layer.update_b + learning_rate*layer.dW/batch_size\n",
        "\n",
        "            layer.W = layer.W - layer.update_W\n",
        "            layer.b = layer.b - layer.update_b\n",
        "\n",
        "            layer.dW = 0\n",
        "            layer.db = 0\n",
        "\n",
        "            layer.update_W = 0\n",
        "            layer.update_b = 0\n",
        "\n",
        "      costs.append(cost/m)\n",
        "      print(\"Cost after epoch \" + str(epoch) + \" :\", cost/m)\n",
        "      \n",
        "    return costs, layers  "
      ],
      "metadata": {
        "id": "dBdvwjl3nljy"
      },
      "execution_count": null,
      "outputs": []
    },
    {
      "cell_type": "markdown",
      "source": [
        "###Putting all togather:"
      ],
      "metadata": {
        "id": "os37IrNr-ClW"
      }
    },
    {
      "cell_type": "markdown",
      "source": [
        "####Train Model"
      ],
      "metadata": {
        "id": "BN3FKWWGNkN6"
      }
    },
    {
      "cell_type": "code",
      "source": [
        "def model_train(epochs, learning_rate, x_train, y_train, activation, h_layers, neurons, batch_size = 16):\n",
        "\n",
        "  layers= [Layer(x_train.shape[1], neurons, activation)]\n",
        "\n",
        "  for _ in range(0, h_layers-1):\n",
        "    layers.append(Layer(neurons, neurons, activation))\n",
        "  layers.append(Layer(neurons, 10, 'softmax'))\n",
        "  \n",
        "  #return sgd(epochs, layers, learning_rate, x_train, y_train, batch_size)\n",
        "  #return mgd(epochs, layers, learning_rate, x_train, y_train, batch_size)\n",
        "  return nesterov(epochs, layers, learning_rate, x_train, y_train, batch_size)\n",
        "  "
      ],
      "metadata": {
        "id": "3sRz9nk6NgVa"
      },
      "execution_count": null,
      "outputs": []
    },
    {
      "cell_type": "markdown",
      "source": [
        "###Import dataset and putting in appropriate format"
      ],
      "metadata": {
        "id": "VcVmssSHNp78"
      }
    },
    {
      "cell_type": "code",
      "source": [
        "from keras.datasets import fashion_mnist\n",
        "(x_train_org, y_train_org), (x_test_org, y_test_org) = fashion_mnist.load_data()"
      ],
      "metadata": {
        "id": "-gFb9PXW50Fc"
      },
      "execution_count": null,
      "outputs": []
    },
    {
      "cell_type": "code",
      "source": [
        "print(\"x_train shape: \", x_train_org.shape)\n",
        "print(\"y_train shape: \", y_train_org.shape)"
      ],
      "metadata": {
        "colab": {
          "base_uri": "https://localhost:8080/"
        },
        "id": "zxKqgiBfFg0R",
        "outputId": "373faad3-66e5-42e0-edfe-25187e62cdbe"
      },
      "execution_count": null,
      "outputs": [
        {
          "output_type": "stream",
          "name": "stdout",
          "text": [
            "x_train shape:  (60000, 28, 28)\n",
            "y_train shape:  (60000,)\n"
          ]
        }
      ]
    },
    {
      "cell_type": "code",
      "source": [
        "x_train = x_train_org.reshape(x_train_org.shape[0], -1)\n",
        "y_train = y_train_org"
      ],
      "metadata": {
        "id": "aVrG8aF6A6HY"
      },
      "execution_count": null,
      "outputs": []
    },
    {
      "cell_type": "code",
      "source": [
        "print(\"x_train shape: \", x_train.shape)\n",
        "print(\"y_train shape: \", y_train.shape)\n",
        "print((x_train[0].reshape(784, 1)).shape)"
      ],
      "metadata": {
        "colab": {
          "base_uri": "https://localhost:8080/"
        },
        "id": "uQzSXM6cJn2H",
        "outputId": "c3443618-7378-4b07-eed4-cf9166acf10a"
      },
      "execution_count": null,
      "outputs": [
        {
          "output_type": "stream",
          "name": "stdout",
          "text": [
            "x_train shape:  (60000, 784)\n",
            "y_train shape:  (60000,)\n",
            "(784, 1)\n"
          ]
        }
      ]
    },
    {
      "cell_type": "markdown",
      "source": [
        "###Train Model"
      ],
      "metadata": {
        "id": "Wfm6cD7aM9nu"
      }
    },
    {
      "cell_type": "code",
      "source": [
        "epochs = 5\n",
        "learning_rate = 0.001\n",
        "activation = 'sigmoid'\n",
        "h_layers = 5\n",
        "neurons = 32\n",
        "\n",
        "costs, layers = model_train(epochs, learning_rate, x_train, y_train, activation, h_layers, neurons)"
      ],
      "metadata": {
        "id": "hrKrKnZSKxYa",
        "colab": {
          "base_uri": "https://localhost:8080/"
        },
        "outputId": "76772d00-fc9d-46a3-869f-ebb3649a1e02"
      },
      "execution_count": null,
      "outputs": [
        {
          "output_type": "stream",
          "name": "stderr",
          "text": [
            "/usr/local/lib/python3.7/dist-packages/ipykernel_launcher.py:2: RuntimeWarning: overflow encountered in exp\n",
            "  \n"
          ]
        },
        {
          "output_type": "stream",
          "name": "stdout",
          "text": [
            "Cost after epoch 0 : 2.55810798816512\n",
            "Cost after epoch 1 : 2.1763730730567965\n",
            "Cost after epoch 2 : 2.071601685700959\n",
            "Cost after epoch 3 : 1.9714907008394138\n",
            "Cost after epoch 4 : 1.8680626626848127\n"
          ]
        }
      ]
    },
    {
      "cell_type": "code",
      "source": [
        "# Making predictions\n",
        "h = forward_propagation(x_train.T, layers)\n",
        "print(h)"
      ],
      "metadata": {
        "id": "cV2-vMJ4igo4",
        "colab": {
          "base_uri": "https://localhost:8080/"
        },
        "outputId": "df7f0303-14d7-42d5-c81f-d04acf4e2af6"
      },
      "execution_count": null,
      "outputs": [
        {
          "output_type": "stream",
          "name": "stderr",
          "text": [
            "/usr/local/lib/python3.7/dist-packages/ipykernel_launcher.py:2: RuntimeWarning: overflow encountered in exp\n",
            "  \n"
          ]
        },
        {
          "output_type": "stream",
          "name": "stdout",
          "text": [
            "[[1.56877889e-06 2.39141423e-06 1.70712270e-06 ... 6.53665405e-07\n",
            "  1.14678318e-06 4.73103423e-06]\n",
            " [4.69308461e-07 3.49474435e-07 1.69101223e-05 ... 1.46314330e-06\n",
            "  1.66258295e-07 1.84724743e-07]\n",
            " [1.32530196e-06 1.89250222e-06 2.62373016e-07 ... 1.23143081e-06\n",
            "  2.15116478e-06 1.06087601e-06]\n",
            " ...\n",
            " [2.49872619e-06 1.47797918e-06 7.83756079e-07 ... 1.01475603e-06\n",
            "  1.40847654e-06 1.69954960e-06]\n",
            " [2.65463599e-06 1.96701855e-06 6.82950544e-07 ... 6.47277051e-07\n",
            "  1.14195519e-06 1.22601019e-06]\n",
            " [2.77824873e-06 1.34248974e-06 6.92831739e-07 ... 6.64396215e-07\n",
            "  1.63920675e-06 1.68662083e-06]]\n"
          ]
        }
      ]
    },
    {
      "cell_type": "code",
      "source": [
        "plt.plot(range(epochs), costs)\n",
        "print(costs)"
      ],
      "metadata": {
        "id": "fioKXqPcivBs",
        "colab": {
          "base_uri": "https://localhost:8080/",
          "height": 283
        },
        "outputId": "9d6a6062-38fc-4074-a1b8-71cbba19740d"
      },
      "execution_count": null,
      "outputs": [
        {
          "output_type": "stream",
          "name": "stdout",
          "text": [
            "[2.55810798816512, 2.1763730730567965, 2.071601685700959, 1.9714907008394138, 1.8680626626848127]\n"
          ]
        },
        {
          "output_type": "display_data",
          "data": {
            "image/png": "[encoded data removed]",
            "text/plain": [
              "<Figure size 432x288 with 1 Axes>"
            ]
          },
          "metadata": {
            "needs_background": "light"
          }
        }
      ]
    },
    {
      "cell_type": "code",
      "source": [
        "for layer in layers:\n",
        "  print(layer.W.shape, layer.b.shape)"
      ],
      "metadata": {
        "colab": {
          "base_uri": "https://localhost:8080/"
        },
        "id": "rt59AZYbSvlA",
        "outputId": "978f2c34-2c57-41b7-ba9b-7881a6af1a66"
      },
      "execution_count": null,
      "outputs": [
        {
          "output_type": "stream",
          "name": "stdout",
          "text": [
            "(32, 784) (32, 784)\n",
            "(32, 32) (32, 32)\n",
            "(32, 32) (32, 32)\n",
            "(32, 32) (32, 32)\n",
            "(32, 32) (32, 32)\n",
            "(10, 32) (10, 32)\n"
          ]
        }
      ]
    }
  ]
}
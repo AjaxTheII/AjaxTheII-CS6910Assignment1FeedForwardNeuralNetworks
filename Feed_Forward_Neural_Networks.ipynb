{
  "nbformat": 4,
  "nbformat_minor": 0,
  "metadata": {
    "colab": {
      "name": "Feed Forward Neural Networks",
      "provenance": []
    },
    "kernelspec": {
      "name": "python3",
      "display_name": "Python 3"
    },
    "language_info": {
      "name": "python"
    }
  },
  "cells": [
    {
      "cell_type": "code",
      "source": [
        "import numpy as np\n",
        "import matplotlib.pyplot as plt"
      ],
      "metadata": {
        "id": "fAgsLmKZMpyH"
      },
      "execution_count": 475,
      "outputs": []
    },
    {
      "cell_type": "markdown",
      "source": [
        "###Activation Functions"
      ],
      "metadata": {
        "id": "Mt8dmitqMs_4"
      }
    },
    {
      "cell_type": "code",
      "execution_count": 476,
      "metadata": {
        "id": "0lE5PJPWMcKJ"
      },
      "outputs": [],
      "source": [
        "def sigmoid(x):\n",
        "  return 1/(1 + np.exp(-x))\n",
        "\n",
        "def d_sigmoid(x):\n",
        "  return (1 - sigmoid(x)) * sigmoid(x)\n",
        "\n",
        "def tanh(x):\n",
        "  return np.tanh(x)\n",
        "\n",
        "def d_tanh(x):\n",
        "    return 1 - np.square(np.tanh(x))\n",
        "\n",
        "def relu(x):\n",
        "  return np.where(np.asarray(x) > 0, x, 0)\n",
        "\n",
        "def d_relu(x):\n",
        "    return np.where(x <= 0, 0, 1)\n",
        "\n",
        "def softmax(x):\n",
        "    e_x = np.exp(x)\n",
        "    return e_x/e_x.sum()"
      ]
    },
    {
      "cell_type": "markdown",
      "source": [
        "###Cost Function:"
      ],
      "metadata": {
        "id": "Yq4IZu4f2hCP"
      }
    },
    {
      "cell_type": "code",
      "source": [
        "def cross_entropy_loss(y, y_hat, i):\n",
        "  return -np.log(y_hat[y[i]][0])"
      ],
      "metadata": {
        "id": "2EE-A_Pw2kMi"
      },
      "execution_count": 477,
      "outputs": []
    },
    {
      "cell_type": "code",
      "source": [
        "def cost(y, y_hat, i):\n",
        "  \n",
        "  m = y.shape[0]\n",
        "  c = (1/m) * np.sum(cross_entropy_loss(y, y_hat))\n",
        "  c = np.squeeze(c) \n",
        "\n",
        "  return c"
      ],
      "metadata": {
        "id": "qJzVsQoi2yek"
      },
      "execution_count": 478,
      "outputs": []
    },
    {
      "cell_type": "markdown",
      "source": [
        "###Layer Class : parameters initialization for each layer"
      ],
      "metadata": {
        "id": "x23K52DJMwJu"
      }
    },
    {
      "cell_type": "code",
      "source": [
        "class Layer:\n",
        "\n",
        "    activationFunc = {\n",
        "        'tanh': (tanh, d_tanh),\n",
        "        'sigmoid': (sigmoid, d_sigmoid),\n",
        "        'relu' : (relu, d_relu),\n",
        "        'softmax' : (softmax, None)\n",
        "    }\n",
        "\n",
        "    def __init__(self, inputs, neurons, activation):\n",
        "        self.W = np.random.randn(neurons, inputs)\n",
        "        self.b = np.zeros((neurons, 1))\n",
        "        self.act, self.d_act = self.activationFunc.get(activation)"
      ],
      "metadata": {
        "id": "MSYeILJNMvIV"
      },
      "execution_count": 479,
      "outputs": []
    },
    {
      "cell_type": "markdown",
      "source": [
        "### Forward propagation"
      ],
      "metadata": {
        "id": "pnulycSKMLB6"
      }
    },
    {
      "cell_type": "code",
      "source": [
        "def forward_propagation(h, layers):\n",
        "  m = len(layers)\n",
        "  \n",
        "  layers[0].a = np.dot(layers[0].W, h)\n",
        "  layers[0].h = layers[0].act(layers[0].a)\n",
        "  \n",
        "  for j in range(1, m-1):\n",
        "    layers[j].a = np.dot(layers[j].W, layers[j-1].h)\n",
        "    layers[j].h = layers[j].act(layers[j].a)\n",
        "\n",
        "  j+=1\n",
        "  layers[j].a = np.dot(layers[j].W, layers[j-1].h)\n",
        "  layers[j].h = softmax(layers[j].a)\n",
        "\n",
        "  return layers[m-1].h"
      ],
      "metadata": {
        "id": "TK_UOVYHs3Vv"
      },
      "execution_count": 480,
      "outputs": []
    },
    {
      "cell_type": "markdown",
      "source": [
        "###Backward_propagation"
      ],
      "metadata": {
        "id": "9J1L5aJ3MNvW"
      }
    },
    {
      "cell_type": "code",
      "source": [
        "def backward_propagation(l, y_hat, layers, inp):\n",
        "  \n",
        "  #one-hot vector\n",
        "  e_l = np.zeros((y_hat.shape[0], 1))\n",
        "  e_l[l] = 1\n",
        "  \n",
        "  layers[len(layers)-1].da = -(e_l - y_hat)                 #gradient w.r.t activation of last layer (a_L)\n",
        "  \n",
        "  for j in range(len(layers)-1, 0, -1):\n",
        "    layers[j].dW = np.dot(layers[j].da, (layers[j-1].h).T)\n",
        "    layers[j].db = layers[j].da\n",
        "\n",
        "    layers[j-1].dh = np.dot((layers[j].W).T, layers[j].da)\n",
        "    layers[j-1].da = np.multiply(layers[j-1].dh, layers[j-1].d_act(layers[j-1].a))\n",
        "\n",
        "  layers[0].dW = np.dot(layers[j].da, inp.T)\n",
        "  layers[0].db = layers[j].da"
      ],
      "metadata": {
        "id": "Ib1ZyluaRYnz"
      },
      "execution_count": 481,
      "outputs": []
    },
    {
      "cell_type": "markdown",
      "source": [
        "###Gradient Descent"
      ],
      "metadata": {
        "id": "wSR_D3vzMR9q"
      }
    },
    {
      "cell_type": "code",
      "source": [
        "def gradient_decent(learning_rate, layers):\n",
        "\n",
        "  for layer in layers:\n",
        "    layer.W = layer.W - learning_rate * layer.dW\n",
        "    layer.b = layer.b - learning_rate * layer.db"
      ],
      "metadata": {
        "id": "uIWqlJbD1cXB"
      },
      "execution_count": 482,
      "outputs": []
    },
    {
      "cell_type": "markdown",
      "source": [
        "###Putting all togather:"
      ],
      "metadata": {
        "id": "os37IrNr-ClW"
      }
    },
    {
      "cell_type": "markdown",
      "source": [
        "####Train Model"
      ],
      "metadata": {
        "id": "BN3FKWWGNkN6"
      }
    },
    {
      "cell_type": "code",
      "source": [
        "def model_train(epochs, learning_rate, x_train, y_train, activation, h_layers, neurons):\n",
        "\n",
        "  #epochs = 5\n",
        "  m = x_train.shape[0]\n",
        "  #learning_rate = 0.001\n",
        "\n",
        "  layers= [Layer(x_train.shape[1], neurons, activation)]\n",
        "\n",
        "  for _ in range(0, h_layers):\n",
        "    layers.append(Layer(neurons, neurons, activation))\n",
        "  layers.append(Layer(neurons, 10, 'softmax'))\n",
        "  \n",
        "  #layers = [Layer(x_train.shape[1], 32), Layer(32, 32), Layer(32, 32), Layer(32, 32), Layer(32, 10)]\n",
        "  costs = []\n",
        "\n",
        "  for epoch in range(epochs):\n",
        "\n",
        "    cost = 0\n",
        "\n",
        "    # Feedforward\n",
        "    for i in range(m):\n",
        "      \n",
        "      h = x_train[i].reshape(784, 1)\n",
        "\n",
        "      h = forward_propagation(h, layers)\n",
        "\n",
        "      # Calulate cost to plot graph\n",
        "      cost += cross_entropy_loss(y_train, h, i)\n",
        "\n",
        "      # Backpropagation\n",
        "      backward_propagation(y_train[i], h, layers, x_train[i].reshape(784, 1))\n",
        "\n",
        "      #stocastic gradient decent\n",
        "      gradient_decent(learning_rate, layers)\n",
        "\n",
        "    costs.append(cost/m)\n",
        "  \n",
        "  return layers, costs"
      ],
      "metadata": {
        "id": "3sRz9nk6NgVa"
      },
      "execution_count": 483,
      "outputs": []
    },
    {
      "cell_type": "markdown",
      "source": [
        "###Import dataset and putting in appropriate format"
      ],
      "metadata": {
        "id": "VcVmssSHNp78"
      }
    },
    {
      "cell_type": "code",
      "source": [
        "from keras.datasets import fashion_mnist\n",
        "(x_train_org, y_train_org), (x_test_org, y_test_org) = fashion_mnist.load_data()"
      ],
      "metadata": {
        "id": "-gFb9PXW50Fc"
      },
      "execution_count": 484,
      "outputs": []
    },
    {
      "cell_type": "code",
      "source": [
        "print(\"x_train shape: \", x_train_org.shape)\n",
        "print(\"y_train shape: \", y_train_org.shape)"
      ],
      "metadata": {
        "colab": {
          "base_uri": "https://localhost:8080/"
        },
        "id": "zxKqgiBfFg0R",
        "outputId": "b0d08ae8-dd8d-47d1-f6ab-593dcae404f0"
      },
      "execution_count": 485,
      "outputs": [
        {
          "output_type": "stream",
          "name": "stdout",
          "text": [
            "x_train shape:  (60000, 28, 28)\n",
            "y_train shape:  (60000,)\n"
          ]
        }
      ]
    },
    {
      "cell_type": "code",
      "source": [
        "x_train = x_train_org.reshape(x_train_org.shape[0], -1)\n",
        "y_train = y_train_org"
      ],
      "metadata": {
        "id": "aVrG8aF6A6HY"
      },
      "execution_count": 486,
      "outputs": []
    },
    {
      "cell_type": "code",
      "source": [
        "print(\"x_train shape: \", x_train.shape)\n",
        "print(\"y_train shape: \", y_train.shape)\n",
        "print((x_train[0].reshape(784, 1)).shape)"
      ],
      "metadata": {
        "colab": {
          "base_uri": "https://localhost:8080/"
        },
        "id": "uQzSXM6cJn2H",
        "outputId": "7e0b4fff-b188-4a06-ec3f-047ff0215679"
      },
      "execution_count": 487,
      "outputs": [
        {
          "output_type": "stream",
          "name": "stdout",
          "text": [
            "x_train shape:  (60000, 784)\n",
            "y_train shape:  (60000,)\n",
            "(784, 1)\n"
          ]
        }
      ]
    },
    {
      "cell_type": "markdown",
      "source": [
        "###Train Model"
      ],
      "metadata": {
        "id": "Wfm6cD7aM9nu"
      }
    },
    {
      "cell_type": "code",
      "source": [
        "epochs = 5\n",
        "learning_rate = 0.001\n",
        "activation = 'sigmoid'\n",
        "h_layers = 3\n",
        "neurons = 32\n",
        "\n",
        "layers, costs = model_train(epochs, learning_rate, x_train, y_train, activation, h_layers, 32)"
      ],
      "metadata": {
        "colab": {
          "base_uri": "https://localhost:8080/"
        },
        "id": "hrKrKnZSKxYa",
        "outputId": "ffcd5604-4063-4d09-f170-eceacf63cf37"
      },
      "execution_count": 488,
      "outputs": [
        {
          "output_type": "stream",
          "name": "stderr",
          "text": [
            "/usr/local/lib/python3.7/dist-packages/ipykernel_launcher.py:2: RuntimeWarning: overflow encountered in exp\n",
            "  \n"
          ]
        }
      ]
    },
    {
      "cell_type": "code",
      "source": [
        "# Making predictions\n",
        "h = forward_propagation(x_train.T, layers)\n",
        "print(h)"
      ],
      "metadata": {
        "colab": {
          "base_uri": "https://localhost:8080/"
        },
        "id": "cV2-vMJ4igo4",
        "outputId": "b44ba702-dc19-4395-f603-bd2e75fbd3ea"
      },
      "execution_count": 489,
      "outputs": [
        {
          "output_type": "stream",
          "name": "stderr",
          "text": [
            "/usr/local/lib/python3.7/dist-packages/ipykernel_launcher.py:2: RuntimeWarning: overflow encountered in exp\n",
            "  \n"
          ]
        },
        {
          "output_type": "stream",
          "name": "stdout",
          "text": [
            "[[1.40749048e-09 3.70379903e-06 6.76991139e-07 ... 5.55507330e-07\n",
            "  4.80076847e-06 6.27471636e-09]\n",
            " [6.09572372e-09 6.51614374e-08 2.04854473e-06 ... 3.52676442e-06\n",
            "  1.78839802e-07 3.27158748e-09]\n",
            " [1.49474625e-07 9.83771313e-07 8.78853827e-09 ... 2.93615647e-09\n",
            "  2.60189392e-07 4.87658277e-08]\n",
            " ...\n",
            " [1.61177051e-07 7.12830265e-10 9.12983979e-09 ... 2.01943782e-08\n",
            "  6.35876959e-10 1.90734920e-06]\n",
            " [4.35895921e-07 5.22827931e-09 1.35510013e-08 ... 1.16620747e-08\n",
            "  3.76355059e-09 6.77015457e-07]\n",
            " [3.54828887e-06 3.09482144e-10 1.86327449e-09 ... 2.76060823e-09\n",
            "  4.03499144e-10 1.96835132e-06]]\n"
          ]
        }
      ]
    },
    {
      "cell_type": "code",
      "source": [
        "plt.plot(range(epochs), costs)\n",
        "print(costs)"
      ],
      "metadata": {
        "colab": {
          "base_uri": "https://localhost:8080/",
          "height": 283
        },
        "id": "fioKXqPcivBs",
        "outputId": "8fa62d85-8f7e-438f-8999-64fb536470c5"
      },
      "execution_count": 490,
      "outputs": [
        {
          "output_type": "stream",
          "name": "stdout",
          "text": [
            "[1.5629064727949133, 1.059344302072048, 1.0531694281552768, 0.9662718382313937, 0.9436280133298889]\n"
          ]
        },
        {
          "output_type": "display_data",
          "data": {
            "image/png": "[encoded data removed]",
            "text/plain": [
              "<Figure size 432x288 with 1 Axes>"
            ]
          },
          "metadata": {
            "needs_background": "light"
          }
        }
      ]
    }
  ]
}
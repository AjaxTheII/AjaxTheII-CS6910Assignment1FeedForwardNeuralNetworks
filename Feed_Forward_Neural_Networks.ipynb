{
  "nbformat": 4,
  "nbformat_minor": 0,
  "metadata": {
    "colab": {
      "name": "Feed Forward Neural Networks.ipynb",
      "provenance": [],
      "collapsed_sections": []
    },
    "kernelspec": {
      "name": "python3",
      "display_name": "Python 3"
    },
    "language_info": {
      "name": "python"
    }
  },
  "cells": [
    {
      "cell_type": "markdown",
      "source": [
        "###Importing useful libraries"
      ],
      "metadata": {
        "id": "Ku4wi_M03c5x"
      }
    },
    {
      "cell_type": "code",
      "execution_count": null,
      "metadata": {
        "id": "qINbFZQ22e86"
      },
      "outputs": [],
      "source": [
        "import numpy as np\n",
        "import pandas as pd"
      ]
    },
    {
      "cell_type": "markdown",
      "source": [
        "### Activation Functions"
      ],
      "metadata": {
        "id": "bbf5dJlx4nAq"
      }
    },
    {
      "cell_type": "code",
      "source": [
        "def sigmoid(x):\n",
        "  return 1/(1 + np.exp(-x))\n",
        "\n",
        "def tanh(x):\n",
        "  return np.tanh(x)\n",
        "\n",
        "def relu(x):\n",
        "  return max(0.0, x)"
      ],
      "metadata": {
        "id": "_wNAiSyz5n3n"
      },
      "execution_count": null,
      "outputs": []
    },
    {
      "cell_type": "markdown",
      "source": [
        "###Loss Functions:"
      ],
      "metadata": {
        "id": "bTNMhXdjaYG7"
      }
    },
    {
      "cell_type": "code",
      "source": [
        "def cross_entropy_loss(y, y_hat):\n",
        "  l = []\n",
        "  for i in range(y.shape[0]):\n",
        "    l.append(y_hat[y[i]][i])\n",
        "    #l = np.array(l)\n",
        "  return l"
      ],
      "metadata": {
        "id": "HJcwT02TaaE-"
      },
      "execution_count": 2,
      "outputs": []
    }
  ]
}